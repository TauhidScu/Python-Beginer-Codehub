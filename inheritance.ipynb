{
 "cells": [
  {
   "cell_type": "markdown",
   "metadata": {},
   "source": [
    "# Python Inheritance\n",
    "Inheritance allows us to define a class that inherits all the methods and properties from another class.\n",
    "\n",
    "Parent class is the class being inherited from, also called base class.\n",
    "\n",
    "Child class is the class that inherits from another class, also called derived class.\n",
    "\n"
   ]
  },
  {
   "cell_type": "code",
   "execution_count": 1,
   "metadata": {},
   "outputs": [
    {
     "name": "stdout",
     "output_type": "stream",
     "text": [
      "Sichuan University sichuan daxue\n"
     ]
    }
   ],
   "source": [
    "class scu:\n",
    "    def __init__(self, english_name, chinese_name):\n",
    "        self.english_name = english_name\n",
    "        self.chinese_name = chinese_name\n",
    "        \n",
    "        \n",
    "    def print_name(self):\n",
    "        print(self.english_name, self.chinese_name)\n",
    "        \n",
    "university = scu(\"Sichuan University\", \"sichuan daxue\")\n",
    "university.print_name()"
   ]
  },
  {
   "cell_type": "code",
   "execution_count": 4,
   "metadata": {},
   "outputs": [
    {
     "name": "stdout",
     "output_type": "stream",
     "text": [
      "Xian jiaotong xian shiyou\n"
     ]
    }
   ],
   "source": [
    "class university(scu):\n",
    "    pass\n",
    "u1 = university(\"Xian jiaotong\", \"xian shiyou\")\n",
    "u1.print_name()"
   ]
  },
  {
   "cell_type": "markdown",
   "metadata": {},
   "source": [
    "# Add a property\n",
    "Add a property called graduationyear to the Student class:"
   ]
  },
  {
   "cell_type": "code",
   "execution_count": 14,
   "metadata": {},
   "outputs": [
    {
     "name": "stdout",
     "output_type": "stream",
     "text": [
      "sichuan university chengdu\n",
      "Chengdu\n"
     ]
    }
   ],
   "source": [
    "class daxue(scu):\n",
    "    def __init__(self, english_name, chinese_name):\n",
    "        scu.__init__(self, english_name, chinese_name)\n",
    "        self.city = \"Chengdu\"\n",
    "    \n",
    "u2 = daxue(\"sichuan university\", \"chengdu\")\n",
    "u2.print_name()\n",
    "print(u2.city)"
   ]
  },
  {
   "cell_type": "markdown",
   "metadata": {},
   "source": [
    "# Use the super() Function\n",
    "Python also has a super() function that will make the child class inherit all the methods and properties from its parent:"
   ]
  },
  {
   "cell_type": "code",
   "execution_count": null,
   "metadata": {},
   "outputs": [],
   "source": [
    "class person:\n",
    "    def __init__(self, name, age):\n",
    "        self.name = name\n",
    "        self.age = age\n",
    "        \n",
    "        \n",
    "    def print_name(self):\n",
    "        print(self.name, self.age)\n",
    "        \n",
    "        \n",
    "class student(person):\n",
    "    def __init__(self, name, age):\n",
    "        super().__init__(name, age)\n",
    "        self.graduation_year = 2020\n",
    "    #Add a method called welcome to the Student class:\n",
    "    def orientation(self):\n",
    "        print(\"welcome\", self.name, \"to the class of\" , self.graduation_year)\n",
    "        \n",
    "s1 = student(\"Tauhid\", 23)\n",
    "s1.print_name()\n",
    "print(s1.graduation_year)\n",
    "s2 = student(\"Bunty\", 2019)\n",
    "s2.orientation()"
   ]
  },
  {
   "cell_type": "code",
   "execution_count": null,
   "metadata": {},
   "outputs": [],
   "source": []
  }
 ],
 "metadata": {
  "kernelspec": {
   "display_name": "Python 3",
   "language": "python",
   "name": "python3"
  },
  "language_info": {
   "codemirror_mode": {
    "name": "ipython",
    "version": 3
   },
   "file_extension": ".py",
   "mimetype": "text/x-python",
   "name": "python",
   "nbconvert_exporter": "python",
   "pygments_lexer": "ipython3",
   "version": "3.7.4"
  }
 },
 "nbformat": 4,
 "nbformat_minor": 2
}
