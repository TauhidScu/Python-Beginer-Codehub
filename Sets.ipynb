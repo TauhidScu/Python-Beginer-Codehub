{
 "cells": [
  {
   "cell_type": "code",
   "execution_count": 20,
   "metadata": {},
   "outputs": [
    {
     "data": {
      "text/plain": [
       "{0, 1, 2, 'Nurul', 'Sohel', 'Tauhid'}"
      ]
     },
     "execution_count": 20,
     "metadata": {},
     "output_type": "execute_result"
    }
   ],
   "source": [
    "List1 = ['Nurul', 'Tauhid', 'Sohel', 'Tauhid', 0, 1, 2]\n",
    "List1\n",
    "Set = set(List1)\n",
    "Set.add(12.2)\n",
    "Set.remove(12.2)\n",
    "Set1 = {1,2,2,\"Tauhid\"}\n",
    "Set & Set1\n",
    "Set.union(Set1)"
   ]
  },
  {
   "cell_type": "code",
   "execution_count": 22,
   "metadata": {},
   "outputs": [
    {
     "data": {
      "text/plain": [
       "True"
      ]
     },
     "execution_count": 22,
     "metadata": {},
     "output_type": "execute_result"
    }
   ],
   "source": [
    "Set1.issubset(Set)"
   ]
  },
  {
   "cell_type": "code",
   "execution_count": 24,
   "metadata": {},
   "outputs": [
    {
     "name": "stdout",
     "output_type": "stream",
     "text": [
      "{1, 2, 'Tauhid'}\n"
     ]
    }
   ],
   "source": [
    "Normal_set = set([1,2,'Tauhid'])\n",
    "print(Normal_set)"
   ]
  },
  {
   "cell_type": "code",
   "execution_count": 26,
   "metadata": {},
   "outputs": [
    {
     "data": {
      "text/plain": [
       "frozenset({2, 'e', 'f'})"
      ]
     },
     "execution_count": 26,
     "metadata": {},
     "output_type": "execute_result"
    }
   ],
   "source": [
    "Frozen_set = frozenset(['e', 'f', 2])\n",
    "Frozen_set"
   ]
  },
  {
   "cell_type": "code",
   "execution_count": 35,
   "metadata": {},
   "outputs": [
    {
     "name": "stdout",
     "output_type": "stream",
     "text": [
      "People:{'Bunty', 'Tauhid', 'Tahi', 'Mubin'}\n",
      "\n",
      " after adding the element: {1, 2, 3, 4, 5, 'Bappy', 'Tahi', 'Bunty', 'Mubin', 'Tauhid'}\n"
     ]
    }
   ],
   "source": [
    "People = {'Tauhid', 'Bunty', 'Mubin', 'Tahi'}\n",
    "print(\"People:\", end=\"\")\n",
    "print(People)\n",
    "People.add(\"Bappy\")\n",
    "for i in range(1, 6):\n",
    "    People.add(i)\n",
    "\n",
    "print(\"\\n after adding the element:\", end = \" \" )\n",
    "print(People)\n"
   ]
  },
  {
   "cell_type": "code",
   "execution_count": 10,
   "metadata": {},
   "outputs": [
    {
     "name": "stdout",
     "output_type": "stream",
     "text": [
      "{'C', 'F', 'D', 'B', 'A', 'Y'}\n",
      "{'C', 'F', 'D', 'B', 'A', 'Y'}\n",
      "{'C', 'A'}\n",
      "{'C', 'A'}\n",
      "{'D', 'B'}\n",
      "{'Y', 'F'}\n",
      "False\n",
      "False\n",
      "False\n",
      "False\n"
     ]
    }
   ],
   "source": [
    "p = {'A', 'B', 'C', 'D'}\n",
    "q = {'A', 'Y', 'F', 'C'}\n",
    "print(p.union(q))\n",
    "print(p|q)\n",
    "print(p.intersection(q))\n",
    "print(p&q)\n",
    "print(p.difference(q))\n",
    "print(q-p)\n",
    "print(p>q)\n",
    "print(q>p)\n",
    "print(p==q)\n",
    "print(p>=q)"
   ]
  }
 ],
 "metadata": {
  "kernelspec": {
   "display_name": "Python 3",
   "language": "python",
   "name": "python3"
  },
  "language_info": {
   "codemirror_mode": {
    "name": "ipython",
    "version": 3
   },
   "file_extension": ".py",
   "mimetype": "text/x-python",
   "name": "python",
   "nbconvert_exporter": "python",
   "pygments_lexer": "ipython3",
   "version": "3.7.4"
  }
 },
 "nbformat": 4,
 "nbformat_minor": 2
}
