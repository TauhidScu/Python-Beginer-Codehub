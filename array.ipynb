{
 "cells": [
  {
   "cell_type": "markdown",
   "metadata": {},
   "source": [
    "# Python does not have built-in support for Arrays, but Python Lists can be used instead.\n",
    "\n",
    "cars = [\"Ford\", \"Volvo\", \"BMW\"]\n",
    "print(cars [1])\n",
    "print(len(cars))\n",
    "for x in cars:\n",
    "    print(x)\n",
    "    \n",
    "    \n",
    "cars.append(\"Honda\")\n",
    "print(cars)\n",
    "cars.pop()\n",
    "print(cars)\n",
    "cars.remove(\"Volvo\")\n",
    "print(cars)\n",
    "cars.insert(0,\"Audi\")\n",
    "print(cars)\n",
    "print(cars.count(\"Audi\"))\n",
    "cars.reverse()\n",
    "print(cars)"
   ]
  },
  {
   "cell_type": "markdown",
   "metadata": {},
   "source": [
    "# reverse\tOptional. reverse=True will sort the list descending. Default is reverse=False\n",
    "# key\tOptional. A function to specify the sorting criteria(s)"
   ]
  },
  {
   "cell_type": "code",
   "execution_count": 25,
   "metadata": {},
   "outputs": [
    {
     "name": "stdout",
     "output_type": "stream",
     "text": [
      "['Audi', 'BMW', 'Ford']\n",
      "['Ford', 'BMW', 'Audi']\n"
     ]
    }
   ],
   "source": [
    "cars.sort()\n",
    "print(cars)\n",
    "cars.sort(reverse =True)\n",
    "print(cars)"
   ]
  },
  {
   "cell_type": "code",
   "execution_count": 26,
   "metadata": {},
   "outputs": [
    {
     "name": "stdout",
     "output_type": "stream",
     "text": [
      "['BMW', 'AUDII', 'Hondaa']\n"
     ]
    }
   ],
   "source": [
    "def sort_func(e):\n",
    "    return len(e)\n",
    "new_cars = [\"BMW\", \"AUDII\", \"Hondaa\"]\n",
    "new_cars.sort(key = sort_func)\n",
    "print(new_cars)"
   ]
  },
  {
   "cell_type": "markdown",
   "metadata": {},
   "source": [
    "# sort by date"
   ]
  },
  {
   "cell_type": "code",
   "execution_count": 27,
   "metadata": {},
   "outputs": [
    {
     "name": "stdout",
     "output_type": "stream",
     "text": [
      "[{'car': 'Mitsubishi', 'year': 2000}, {'car': 'Ford', 'year': 2005}, {'car': 'VW', 'year': 2011}, {'car': 'BMW', 'year': 2019}]\n"
     ]
    }
   ],
   "source": [
    "def sort_date_Func(e):\n",
    "    return e['year']\n",
    "\n",
    "cars = [\n",
    "  {'car': 'Ford', 'year': 2005},\n",
    "  {'car': 'Mitsubishi', 'year': 2000},\n",
    "  {'car': 'BMW', 'year': 2019},\n",
    "  {'car': 'VW', 'year': 2011}\n",
    "]\n",
    "\n",
    "cars.sort(key=sort_date_Func)\n",
    "print(cars)"
   ]
  },
  {
   "cell_type": "markdown",
   "metadata": {},
   "source": [
    "# Sort the list by the length of the values and reversed:"
   ]
  },
  {
   "cell_type": "code",
   "execution_count": 28,
   "metadata": {},
   "outputs": [
    {
     "name": "stdout",
     "output_type": "stream",
     "text": [
      "['Hondaa', 'Audii', 'Ford']\n"
     ]
    }
   ],
   "source": [
    "def sort_by_length(e):\n",
    "    return len(e)\n",
    "\n",
    "\n",
    "cars = [\"Ford\", \"Audii\", \"Hondaa\"]\n",
    "cars.sort(reverse = True, key = sort_by_length)\n",
    "print(cars)"
   ]
  },
  {
   "cell_type": "markdown",
   "metadata": {},
   "source": [
    "# The index() method only returns the first occurrence of the value.\n",
    "print(cars.index(\"Hondaa\"))"
   ]
  },
  {
   "cell_type": "code",
   "execution_count": null,
   "metadata": {},
   "outputs": [],
   "source": []
  }
 ],
 "metadata": {
  "kernelspec": {
   "display_name": "Python 3",
   "language": "python",
   "name": "python3"
  },
  "language_info": {
   "codemirror_mode": {
    "name": "ipython",
    "version": 3
   },
   "file_extension": ".py",
   "mimetype": "text/x-python",
   "name": "python",
   "nbconvert_exporter": "python",
   "pygments_lexer": "ipython3",
   "version": "3.7.4"
  }
 },
 "nbformat": 4,
 "nbformat_minor": 2
}
