{
 "cells": [
  {
   "cell_type": "code",
   "execution_count": 14,
   "metadata": {},
   "outputs": [
    {
     "name": "stdout",
     "output_type": "stream",
     "text": [
      "{'A': 'Apple', 'Price': 200}\n",
      "Apple\n",
      "{'A': 'Apple', 'Price': 200, 'amount': 5}\n",
      "{'A': 'Apple', 'Price': 200}\n",
      "True\n",
      "dict_keys(['A', 'Price'])\n",
      "dict_values(['Apple', 200])\n"
     ]
    }
   ],
   "source": [
    "dictionary = {\"A\": 'Apple', \"Price\": 200}\n",
    "print(dictionary)\n",
    "print(dictionary[\"A\"])\n",
    "dictionary['amount'] = 5\n",
    "print(dictionary)\n",
    "del(dictionary['amount'])\n",
    "print(dictionary)\n",
    "print('Price' in dictionary)\n",
    "print(dictionary.keys())\n",
    "print(dictionary.values())"
   ]
  },
  {
   "cell_type": "code",
   "execution_count": 35,
   "metadata": {},
   "outputs": [
    {
     "name": "stdout",
     "output_type": "stream",
     "text": [
      "A\n",
      "Price\n",
      "Apple\n",
      "200\n",
      "A Apple\n",
      "Price 200\n",
      "2\n",
      "{'A': 'Apple', 'Price': 200, 'M': 'Mango'}\n",
      "{'A': 'Apple', 'Price': 200}\n",
      "{'a': 10, 'b': [3, 3, 3], 'c': (4, 4, 4)}\n",
      "[3, 3, 3]\n",
      "10\n"
     ]
    }
   ],
   "source": [
    "for x in dictionary:\n",
    "    print(x)\n",
    "    \n",
    "for y in dictionary:\n",
    "    print(dictionary[y])\n",
    "    \n",
    "for x, y in dictionary.items():\n",
    "    print(x,y)\n",
    "    \n",
    "print(len(dictionary))\n",
    "dictionary['M'] = 'Mango'\n",
    "print(dictionary)\n",
    "dictionary.pop('M')\n",
    "print(dictionary)\n",
    "Dict = {\"a\": 10, \"b\":[3,3,3], \"c\": (4,4,4)}\n",
    "print(Dict)\n",
    "print(Dict['b'])\n",
    "print(Dict['a'])"
   ]
  },
  {
   "cell_type": "code",
   "execution_count": 41,
   "metadata": {},
   "outputs": [
    {
     "name": "stdout",
     "output_type": "stream",
     "text": [
      "{'Board_Exam1': {'Name': 'SSC', 'year': 2013, 'GPA': 5.0}, 'Board_Exam2': {'Name': 'HSC', 'year': 2015, 'GPA': 4.1}, 'Board_Exam3': {'Name': 'Bachelor in software Engineering', 'Year': 2020, 'GPA': 3.39}}\n"
     ]
    }
   ],
   "source": [
    "myDict = {\"Board_Exam1\":{\n",
    "    \"Name\": \"SSC\",\n",
    "    \"year\": 2013,\n",
    "    \"GPA\": 5.00\n",
    "},\"Board_Exam2\":{\n",
    "    \"Name\": \"HSC\",\n",
    "    \"year\": 2015,\n",
    "    \"GPA\": 4.10\n",
    "}, \"Board_Exam3\":{\n",
    "    \"Name\": \"Bachelor in software Engineering\",\n",
    "    \"Year\": 2020,\n",
    "    \"GPA\": 3.39\n",
    "}\n",
    "     }\n",
    "print(myDict)"
   ]
  },
  {
   "cell_type": "code",
   "execution_count": 47,
   "metadata": {},
   "outputs": [
    {
     "name": "stdout",
     "output_type": "stream",
     "text": [
      "{'Chinld1': {'Name': 'Nurul Islam', 'Profession': 'Doctor'}, 'Child2': {'Name': 'Imran Hosain', 'Profession': 'Mawlana'}, 'Child3': {'Name': 'MD Tauhidul Islam', 'profession': 'Engineer'}}\n"
     ]
    }
   ],
   "source": [
    "Child1 = {\n",
    "    \"Name\": \"Nurul Islam\",\n",
    "    \"Profession\": \"Doctor\"\n",
    "}\n",
    "Child2 = {\n",
    "    \"Name\": \"Imran Hosain\",\n",
    "    \"Profession\": \"Mawlana\"\n",
    "}\n",
    "Child3 = {\n",
    "    \"Name\": \"MD Tauhidul Islam\",\n",
    "    \"profession\": \"Engineer\"\n",
    "}\n",
    "Family_member = {\n",
    "    \"Chinld1\": Child1,\n",
    "    \"Child2\" : Child2,\n",
    "    \"Child3\" : Child3\n",
    "}\n",
    "print(Family_member)"
   ]
  },
  {
   "cell_type": "code",
   "execution_count": 57,
   "metadata": {},
   "outputs": [
    {
     "name": "stdout",
     "output_type": "stream",
     "text": [
      "Tauhid\n",
      "{'Name': 'Tauhid', 'Birthday': '14/03/1997', 'profession': 'Software Engineer'}\n"
     ]
    },
    {
     "data": {
      "text/plain": [
       "'14/03/1997'"
      ]
     },
     "execution_count": 57,
     "metadata": {},
     "output_type": "execute_result"
    }
   ],
   "source": [
    "myDict2 = dict(Name =\"Tauhid\", Birthday = \"14/03/1997\", profession = \"Software Engineer\")\n",
    "print(myDict2['Name'])\n",
    "print(myDict2)\n",
    "myDict2.get(\"Birthday\")"
   ]
  },
  {
   "cell_type": "code",
   "execution_count": null,
   "metadata": {},
   "outputs": [],
   "source": []
  }
 ],
 "metadata": {
  "kernelspec": {
   "display_name": "Python 3",
   "language": "python",
   "name": "python3"
  },
  "language_info": {
   "codemirror_mode": {
    "name": "ipython",
    "version": 3
   },
   "file_extension": ".py",
   "mimetype": "text/x-python",
   "name": "python",
   "nbconvert_exporter": "python",
   "pygments_lexer": "ipython3",
   "version": "3.7.4"
  }
 },
 "nbformat": 4,
 "nbformat_minor": 2
}
