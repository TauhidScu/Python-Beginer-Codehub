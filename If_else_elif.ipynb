{
 "cells": [
  {
   "cell_type": "code",
   "execution_count": 12,
   "metadata": {},
   "outputs": [
    {
     "name": "stdout",
     "output_type": "stream",
     "text": [
      "True\n",
      "a is greater than b\n"
     ]
    }
   ],
   "source": [
    "a = 100\n",
    "b = 90\n",
    "print(a>b)\n",
    "if a>b:\n",
    "    print(\"a is greater than b\")\n",
    "    \n",
    "    "
   ]
  },
  {
   "cell_type": "code",
   "execution_count": 15,
   "metadata": {},
   "outputs": [
    {
     "name": "stdout",
     "output_type": "stream",
     "text": [
      "a is greater \n"
     ]
    }
   ],
   "source": [
    "if a<b:\n",
    "    print(\"a is less then b\")\n",
    "    \n",
    "elif a==b:\n",
    "    print(\"Both are equal\")\n",
    "    \n",
    "else:\n",
    "    print(\"a is greater \")"
   ]
  },
  {
   "cell_type": "code",
   "execution_count": 18,
   "metadata": {},
   "outputs": [
    {
     "name": "stdout",
     "output_type": "stream",
     "text": [
      "y is the smallest\n",
      "z is the biggest\n"
     ]
    }
   ],
   "source": [
    "x = 100\n",
    "y = 99\n",
    "z=200\n",
    "if x>y and y<z:\n",
    "    print(\"y is the smallest\")\n",
    "    \n",
    "if x<z or z>y:\n",
    "    print(\"z is the biggest\")"
   ]
  },
  {
   "cell_type": "code",
   "execution_count": 23,
   "metadata": {},
   "outputs": [
    {
     "name": "stdout",
     "output_type": "stream",
     "text": [
      "greater than 100\n",
      "it's less or equal to 200\n"
     ]
    }
   ],
   "source": [
    "a = 200\n",
    "if a>100:\n",
    "    print(\"greater than 100\")\n",
    "    if(a>200):\n",
    "        print(\"greater than 200\")\n",
    "    else:\n",
    "        print(\"it's less or equal to 200\")\n",
    "        \n",
    "b= 100\n",
    "if a>b:\n",
    "    pass"
   ]
  }
 ],
 "metadata": {
  "kernelspec": {
   "display_name": "Python 3",
   "language": "python",
   "name": "python3"
  },
  "language_info": {
   "codemirror_mode": {
    "name": "ipython",
    "version": 3
   },
   "file_extension": ".py",
   "mimetype": "text/x-python",
   "name": "python",
   "nbconvert_exporter": "python",
   "pygments_lexer": "ipython3",
   "version": "3.7.4"
  }
 },
 "nbformat": 4,
 "nbformat_minor": 2
}
