{
 "cells": [
  {
   "cell_type": "markdown",
   "metadata": {},
   "source": [
    "# variable with type\n",
    "variable = 20\n",
    "print(type(variable))\n",
    "variable1 = 30\n",
    "print(type(variable1))\n",
    "print(variable + variable1)"
   ]
  },
  {
   "cell_type": "markdown",
   "metadata": {},
   "source": [
    "# concatenation\n",
    "str1 = 'hello'\n",
    "str2 = \"Python\"\n",
    "print(str1 +\" \"+ str2)"
   ]
  },
  {
   "cell_type": "markdown",
   "metadata": {},
   "source": [
    "# Find length\n",
    "str1 = 'hello, this is python 3. welcome to my world'\n",
    "print(len(str1))"
   ]
  },
  {
   "cell_type": "markdown",
   "metadata": {},
   "source": [
    "# print a char from a string while it is 0 based indexing\n",
    "str1 = 'hello, beginer. Take it easy'\n",
    "print(str1[10])"
   ]
  },
  {
   "cell_type": "code",
   "execution_count": 4,
   "metadata": {},
   "outputs": [
    {
     "name": "stdout",
     "output_type": "stream",
     "text": [
      "hello\n",
      "this is python3. Take it easy baby\n",
      "Take it easy baby\n"
     ]
    }
   ],
   "source": [
    "#print a substring from a string \n",
    "str1 = 'hello, this is python3. Take it easy baby'\n",
    "print(str1[:5])\n",
    "print(str1[7:])\n",
    "print(str1[24:41])\n"
   ]
  },
  {
   "cell_type": "code",
   "execution_count": null,
   "metadata": {},
   "outputs": [],
   "source": []
  },
  {
   "cell_type": "code",
   "execution_count": 20,
   "metadata": {},
   "outputs": [
    {
     "name": "stdout",
     "output_type": "stream",
     "text": [
      "**********\n",
      "*********\n",
      "********\n",
      "*******\n",
      "******\n",
      "*****\n",
      "****\n",
      "***\n",
      "**\n",
      "*\n"
     ]
    }
   ],
   "source": [
    "#repeat string\n",
    "str1 = '*'\n",
    "print(str1 * 10)\n",
    "print(str1 * 9)\n",
    "print(str1 * 8)\n",
    "print(str1 * 7)\n",
    "print(str1 * 6)\n",
    "print(str1 * 5)\n",
    "print(str1 * 4)\n",
    "print(str1 * 3)\n",
    "print(str1 * 2)\n",
    "print(str1 * 1)"
   ]
  },
  {
   "cell_type": "code",
   "execution_count": 21,
   "metadata": {},
   "outputs": [
    {
     "name": "stdout",
     "output_type": "stream",
     "text": [
      "split with space\n",
      "['China', 'is', 'the', 'country,', 'with', 'proper', 'plan', 'for', 'the', 'fure.', 'Chino-Bangladesh,', 'relation', 'is', 'developing', 'through', 'friendly', 'exchange.']\n",
      "Split with comma\n",
      "['China is the country', ' with proper plan for the fure. Chino-Bangladesh', ' relation is developing through friendly exchange.']\n",
      "split with dot\n",
      "['China is the country, with proper plan for the fure', ' Chino-Bangladesh, relation is developing through friendly exchange', '']\n"
     ]
    }
   ],
   "source": [
    "#split a string regarding space/comma/dot\n",
    "str1 = 'China is the country, with proper plan for the fure. Chino-Bangladesh, relation is developing through friendly exchange.'\n",
    "print('split with space')\n",
    "print(str1.split(' '))\n",
    "print('Split with comma')\n",
    "print(str1.split(','))\n",
    "print('split with dot')\n",
    "print(str1.split('.'))"
   ]
  },
  {
   "cell_type": "code",
   "execution_count": 4,
   "metadata": {},
   "outputs": [
    {
     "name": "stdout",
     "output_type": "stream",
     "text": [
      "str1.count(''): 43\n"
     ]
    }
   ],
   "source": [
    "#count strings\n",
    "str1 = \"hello guys, this is python. Isn't it cool?\"\n",
    "print(\"str1.count(''):\", str1.count('') )"
   ]
  },
  {
   "cell_type": "code",
   "execution_count": 26,
   "metadata": {},
   "outputs": [
    {
     "name": "stdout",
     "output_type": "stream",
     "text": [
      "python 3 at ur service, it is python 3\n"
     ]
    }
   ],
   "source": [
    "#Replace string\n",
    "str1 = 'Hi friends, it is python 3'\n",
    "print(str1.replace('Hi friends', 'python 3 at ur service'))"
   ]
  },
  {
   "cell_type": "code",
   "execution_count": 29,
   "metadata": {},
   "outputs": [
    {
     "name": "stdout",
     "output_type": "stream",
     "text": [
      "4\n"
     ]
    }
   ],
   "source": [
    "#finding sub Strings\n",
    "str1 = 'hey folks, it is ur boss here'\n",
    "print(str1.find('folks')) #return the index of the string"
   ]
  },
  {
   "cell_type": "code",
   "execution_count": 30,
   "metadata": {},
   "outputs": [
    {
     "name": "stdout",
     "output_type": "stream",
     "text": [
      "I am 23\n"
     ]
    }
   ],
   "source": [
    "#Converting types of variable\n",
    "var1 = 23\n",
    "str1 = \"I am \"\n",
    "print(str1 + str(var1))"
   ]
  },
  {
   "cell_type": "code",
   "execution_count": 32,
   "metadata": {},
   "outputs": [
    {
     "name": "stdout",
     "output_type": "stream",
     "text": [
      "False\n",
      "True\n"
     ]
    }
   ],
   "source": [
    "#comparing String\n",
    "str1 = 'Tauhid'\n",
    "str2 = 'tauhid'\n",
    "print(str1 == str2)\n",
    "print(str1 != str2)"
   ]
  },
  {
   "cell_type": "code",
   "execution_count": 35,
   "metadata": {},
   "outputs": [
    {
     "name": "stdout",
     "output_type": "stream",
     "text": [
      "Hello Kids!\n"
     ]
    }
   ],
   "source": [
    "#string formatting\n",
    "format_string = 'Hello {}!'\n",
    "print(format_string.format('Kids'))"
   ]
  },
  {
   "cell_type": "code",
   "execution_count": 37,
   "metadata": {},
   "outputs": [
    {
     "name": "stdout",
     "output_type": "stream",
     "text": [
      "Tauhid\n",
      "23\n",
      "Tauhid is 23 years old\n"
     ]
    }
   ],
   "source": [
    "#sophisticated formatting\n",
    "name = input()\n",
    "age = input()\n",
    "print(\"{} is {} years old\".format(name, age))"
   ]
  },
  {
   "cell_type": "code",
   "execution_count": 2,
   "metadata": {},
   "outputs": [
    {
     "name": "stdout",
     "output_type": "stream",
     "text": [
      "hey boss                 \n",
      "      Let's do allignment\n",
      "           Let's do allignment\n",
      "Let's do center allignment\n",
      "False\n",
      "True\n",
      "False\n",
      "True\n",
      "1,234,567,890\n"
     ]
    }
   ],
   "source": [
    "str1 = 'hey boss'\n",
    "print('{:<25}'.format(str1))\n",
    "print('{:>25}'.format(\"Let's do allignment\"))\n",
    "print('{:>30}'.format(\"Let's do allignment\"))\n",
    "print('{:^25}'.format(\"Let's do center allignment\"))\n",
    "print(str1.startswith('H'))\n",
    "print(str1.endswith('oss'))\n",
    "print(str1.isupper())\n",
    "print(str1.islower())\n",
    "#Print number with thousand separator\n",
    "var1 = 1234567890\n",
    "print('{:,}'.format(var1))"
   ]
  },
  {
   "cell_type": "code",
   "execution_count": 6,
   "metadata": {},
   "outputs": [
    {
     "name": "stdout",
     "output_type": "stream",
     "text": [
      "30\n",
      "<class 'str'>\n",
      "50\n"
     ]
    }
   ],
   "source": [
    "#the input function always return a string so if we want to reuse it we need to convert it\n",
    "input1 = input()\n",
    "print(type(input1))\n",
    "print(int(input1)+ 20)"
   ]
  },
  {
   "cell_type": "code",
   "execution_count": 9,
   "metadata": {
    "scrolled": true
   },
   "outputs": [
    {
     "name": "stdout",
     "output_type": "stream",
     "text": [
      "<class 'float'>\n",
      "5\n"
     ]
    }
   ],
   "source": [
    "var1 = 5.00\n",
    "print(type(var1))\n",
    "print(int(var1))"
   ]
  },
  {
   "cell_type": "code",
   "execution_count": 10,
   "metadata": {},
   "outputs": [
    {
     "name": "stdout",
     "output_type": "stream",
     "text": [
      "56.3\n",
      "<class 'float'>\n"
     ]
    }
   ],
   "source": [
    "input1 = float(input())\n",
    "print(type(input1))"
   ]
  },
  {
   "cell_type": "code",
   "execution_count": 5,
   "metadata": {
    "scrolled": false
   },
   "outputs": [
    {
     "name": "stdout",
     "output_type": "stream",
     "text": [
      "<class 'complex'>\n",
      "(100+0j)\n",
      "True\n",
      "19\n",
      "100\n"
     ]
    }
   ],
   "source": [
    "v1 = 1j\n",
    "v2 = 2j\n",
    "v3 = v1+v2\n",
    "print(type(v1))\n",
    "print(complex(100))\n",
    "winner = None\n",
    "print(winner is None)\n",
    "print(99//5)#the floor division // rounds the result down to the nearest whole number\n",
    "print(10**2)\n",
    "#Python Bitwise Operators to be covered"
   ]
  },
  {
   "cell_type": "code",
   "execution_count": 11,
   "metadata": {},
   "outputs": [
    {
     "name": "stdout",
     "output_type": "stream",
     "text": [
      "20\n"
     ]
    }
   ],
   "source": [
    "X = 20\n",
    "print (X)"
   ]
  },
  {
   "cell_type": "code",
   "execution_count": 13,
   "metadata": {},
   "outputs": [
    {
     "name": "stdout",
     "output_type": "stream",
     "text": [
      "25\n",
      "30\n"
     ]
    }
   ],
   "source": [
    "X,y =(25,30)\n",
    "print(X)\n",
    "print(y)"
   ]
  },
  {
   "cell_type": "code",
   "execution_count": 22,
   "metadata": {},
   "outputs": [
    {
     "name": "stdout",
     "output_type": "stream",
     "text": [
      "1\n",
      "I'm fine\n"
     ]
    }
   ],
   "source": [
    "str1 = 'hello guys'\n",
    "print(str1.count(str1))\n",
    "print('I\\'m fine')"
   ]
  },
  {
   "cell_type": "code",
   "execution_count": 25,
   "metadata": {},
   "outputs": [
    {
     "data": {
      "text/plain": [
       "(3, 5, 20, 'Hello')"
      ]
     },
     "execution_count": 25,
     "metadata": {},
     "output_type": "execute_result"
    }
   ],
   "source": [
    "x = (3, 5, 20, 'Hello')\n",
    "x"
   ]
  },
  {
   "cell_type": "code",
   "execution_count": 28,
   "metadata": {},
   "outputs": [
    {
     "name": "stdout",
     "output_type": "stream",
     "text": [
      "<class 'int'>\n",
      "<class 'int'>\n"
     ]
    }
   ],
   "source": [
    "x=1\n",
    "print(type(x))\n",
    "x1=1000000000000000000000000000000000000000000000000000000000000000000000000001\n",
    "print(type(x1))"
   ]
  },
  {
   "cell_type": "code",
   "execution_count": 30,
   "metadata": {},
   "outputs": [
    {
     "data": {
      "text/plain": [
       "12"
      ]
     },
     "execution_count": 30,
     "metadata": {},
     "output_type": "execute_result"
    }
   ],
   "source": [
    "x =2+5+\\\n",
    "5\n",
    "x\n"
   ]
  }
 ],
 "metadata": {
  "kernelspec": {
   "display_name": "Python 3",
   "language": "python",
   "name": "python3"
  },
  "language_info": {
   "codemirror_mode": {
    "name": "ipython",
    "version": 3
   },
   "file_extension": ".py",
   "mimetype": "text/x-python",
   "name": "python",
   "nbconvert_exporter": "python",
   "pygments_lexer": "ipython3",
   "version": "3.7.4"
  }
 },
 "nbformat": 4,
 "nbformat_minor": 2
}
